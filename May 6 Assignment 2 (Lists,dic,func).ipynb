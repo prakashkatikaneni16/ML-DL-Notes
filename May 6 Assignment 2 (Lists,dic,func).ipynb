{
 "cells": [
  {
   "cell_type": "markdown",
   "metadata": {},
   "source": [
    "# Assignment 2(Lists,Dic,Functions) Katikaneni Saiprakash"
   ]
  },
  {
   "cell_type": "raw",
   "metadata": {},
   "source": [
    "1. What is the 7 to power of 4"
   ]
  },
  {
   "cell_type": "code",
   "execution_count": 1,
   "metadata": {},
   "outputs": [
    {
     "data": {
      "text/plain": [
       "2401"
      ]
     },
     "execution_count": 1,
     "metadata": {},
     "output_type": "execute_result"
    }
   ],
   "source": [
    "#Method 1 using **\n",
    "7**4"
   ]
  },
  {
   "cell_type": "code",
   "execution_count": 3,
   "metadata": {},
   "outputs": [
    {
     "data": {
      "text/plain": [
       "2401"
      ]
     },
     "execution_count": 3,
     "metadata": {},
     "output_type": "execute_result"
    }
   ],
   "source": [
    "#Method 2 uisng pow()\n",
    "pow(7,4)"
   ]
  },
  {
   "cell_type": "raw",
   "metadata": {},
   "source": [
    "2. Split the given string into list\n",
    "s=\"Hi there sam!\""
   ]
  },
  {
   "cell_type": "code",
   "execution_count": 4,
   "metadata": {},
   "outputs": [
    {
     "data": {
      "text/plain": [
       "['Hi', 'there', 'sam!']"
      ]
     },
     "execution_count": 4,
     "metadata": {},
     "output_type": "execute_result"
    }
   ],
   "source": [
    "#Solution:\n",
    "s=\"Hi there sam!\"\n",
    "s.split()"
   ]
  },
  {
   "cell_type": "raw",
   "metadata": {},
   "source": [
    "3.Given the variables\n",
    "planet=\"Earth\"\n",
    "diameter=12742\n",
    "o/p : The diamter of Earth is 12742 Kilometers."
   ]
  },
  {
   "cell_type": "code",
   "execution_count": 7,
   "metadata": {},
   "outputs": [
    {
     "name": "stdout",
     "output_type": "stream",
     "text": [
      "The diameter Earth is 12742 kilometers\n"
     ]
    }
   ],
   "source": [
    "# Solution:\n",
    "planet=\"Earth\"\n",
    "diameter=12742\n",
    "print(\"The diameter {} is {} kilometers\".format(planet,diameter))"
   ]
  },
  {
   "cell_type": "raw",
   "metadata": {},
   "source": [
    "4. Given the nested list by use indexing grab the word 'Hello'\n",
    "list=[1,2,[3,4],[5,[100,200,['hello']],23,11],1,7]"
   ]
  },
  {
   "cell_type": "code",
   "execution_count": 11,
   "metadata": {},
   "outputs": [
    {
     "name": "stdout",
     "output_type": "stream",
     "text": [
      "hello\n"
     ]
    }
   ],
   "source": [
    "# Solution:\n",
    "list1=[1,2,[3,4],[5,[100,200,['hello']],23,11],1,7]\n",
    "print(list1[3][1][2][0])"
   ]
  },
  {
   "cell_type": "raw",
   "metadata": {},
   "source": [
    "5.Given this nested dictinoary grab word 'hello'\n",
    "d = {'k1':[1,2,3,{'tricky':['oh','man','inception',{'target':[1,2,3,'hello']}]}]}"
   ]
  },
  {
   "cell_type": "code",
   "execution_count": 13,
   "metadata": {},
   "outputs": [
    {
     "name": "stdout",
     "output_type": "stream",
     "text": [
      "hello\n"
     ]
    }
   ],
   "source": [
    "#Solution:\n",
    "d = {'k1':[1,2,3,{'tricky':['oh','man','inception',{'target':[1,2,3,'hello']}]}]}\n",
    "print(d['k1'][3]['tricky'][3]['target'][3])"
   ]
  },
  {
   "cell_type": "raw",
   "metadata": {},
   "source": [
    "6. Main diff between tuple and list\n",
    "ans:  List is mutable and Tuple is immutable"
   ]
  },
  {
   "cell_type": "code",
   "execution_count": 17,
   "metadata": {},
   "outputs": [],
   "source": [
    "#proof:\n",
    "#list\n",
    "l1=[1,2,3]"
   ]
  },
  {
   "cell_type": "code",
   "execution_count": 18,
   "metadata": {},
   "outputs": [],
   "source": [
    "l1[0]=5"
   ]
  },
  {
   "cell_type": "code",
   "execution_count": 19,
   "metadata": {},
   "outputs": [
    {
     "data": {
      "text/plain": [
       "[5, 2, 3]"
      ]
     },
     "execution_count": 19,
     "metadata": {},
     "output_type": "execute_result"
    }
   ],
   "source": [
    "l1"
   ]
  },
  {
   "cell_type": "code",
   "execution_count": 20,
   "metadata": {},
   "outputs": [],
   "source": [
    "#tuple\n",
    "t1=(1,2,3)"
   ]
  },
  {
   "cell_type": "code",
   "execution_count": 22,
   "metadata": {},
   "outputs": [
    {
     "ename": "TypeError",
     "evalue": "'tuple' object does not support item assignment",
     "output_type": "error",
     "traceback": [
      "\u001b[1;31m---------------------------------------------------------------------------\u001b[0m",
      "\u001b[1;31mTypeError\u001b[0m                                 Traceback (most recent call last)",
      "\u001b[1;32m<ipython-input-22-36681a10c2b3>\u001b[0m in \u001b[0;36m<module>\u001b[1;34m\u001b[0m\n\u001b[1;32m----> 1\u001b[1;33m \u001b[0mt1\u001b[0m\u001b[1;33m[\u001b[0m\u001b[1;36m0\u001b[0m\u001b[1;33m]\u001b[0m\u001b[1;33m=\u001b[0m\u001b[1;36m5\u001b[0m\u001b[1;33m\u001b[0m\u001b[1;33m\u001b[0m\u001b[0m\n\u001b[0m\u001b[0;32m      2\u001b[0m \u001b[1;31m#it  is throwing error so tuple is immutable\u001b[0m\u001b[1;33m\u001b[0m\u001b[1;33m\u001b[0m\u001b[1;33m\u001b[0m\u001b[0m\n",
      "\u001b[1;31mTypeError\u001b[0m: 'tuple' object does not support item assignment"
     ]
    }
   ],
   "source": [
    "t1[0]=5\n",
    "#it  is throwing error so tuple is immutable"
   ]
  },
  {
   "cell_type": "raw",
   "metadata": {},
   "source": [
    "7. Create a function that grabs domain\n",
    "ex:user@domain.com\n",
    "    op:domain.com"
   ]
  },
  {
   "cell_type": "code",
   "execution_count": 24,
   "metadata": {},
   "outputs": [
    {
     "name": "stdout",
     "output_type": "stream",
     "text": [
      "Enter your emailpr@gmail.com\n",
      "['pr', 'gmail.com']\n"
     ]
    }
   ],
   "source": [
    "def domain(em):\n",
    "    print(em.split('@'))\n",
    "em=input(\"Enter your email\")\n",
    "domain(em)"
   ]
  },
  {
   "cell_type": "code",
   "execution_count": 27,
   "metadata": {},
   "outputs": [
    {
     "name": "stdout",
     "output_type": "stream",
     "text": [
      "Enter your emailxyz@gmail.com\n",
      "Domain is gmail.com\n"
     ]
    }
   ],
   "source": [
    "# so in order to get only domain here is the below code\n",
    "def domain(em):\n",
    "    print('Domain is '+em.split('@')[-1])\n",
    "em=input(\"Enter your email\")\n",
    "domain(em)"
   ]
  },
  {
   "cell_type": "raw",
   "metadata": {},
   "source": [
    "8. Create a basic function that returns True if the word 'dog' is contained in the input string.\n",
    "Dont worry about edge cases like a punctuation being attached to the word dog, but do account for capitalization.\n"
   ]
  },
  {
   "cell_type": "code",
   "execution_count": 31,
   "metadata": {},
   "outputs": [
    {
     "name": "stdout",
     "output_type": "stream",
     "text": [
      "Enter a wordDOGG\n",
      "True\n"
     ]
    }
   ],
   "source": [
    "def dog(str1):\n",
    "    if 'dog' in str1.lower(): #even dog is captial as we need to consider it convert it to lower.\n",
    "        print(\"True\")\n",
    "    else:\n",
    "        print(\"False\")\n",
    "str1=input(\"Enter a word\")\n",
    "dog(str1)"
   ]
  },
  {
   "cell_type": "code",
   "execution_count": 33,
   "metadata": {},
   "outputs": [
    {
     "name": "stdout",
     "output_type": "stream",
     "text": [
      "False\n"
     ]
    }
   ],
   "source": [
    "dog('odg')"
   ]
  },
  {
   "cell_type": "raw",
   "metadata": {},
   "source": [
    "9. Create a function that counts the number of times the word 'dog' occurs in a string. Again ignore edge cases."
   ]
  },
  {
   "cell_type": "code",
   "execution_count": 58,
   "metadata": {},
   "outputs": [
    {
     "name": "stdout",
     "output_type": "stream",
     "text": [
      "Enter a worddog is so cute.dog breed is germanshepard\n"
     ]
    },
    {
     "data": {
      "text/plain": [
       "2"
      ]
     },
     "execution_count": 58,
     "metadata": {},
     "output_type": "execute_result"
    }
   ],
   "source": [
    "def countdog(str2):\n",
    "    str2.lower().split()\n",
    "    return str2.count('dog')\n",
    "str2=input('Enter a word')\n",
    "countDog(str2)"
   ]
  },
  {
   "cell_type": "raw",
   "metadata": {},
   "source": [
    "10. You are driving a little too fast, and a police officer stops you. \n",
    "Write a function to return one of 3 possible results: “No ticket”, “Small ticket”, or “Big Ticket”.\n",
    "If your speed is 60 or less, the result is “No Ticket”.\n",
    "If speed is between 61 and 80 inclusive, the result is “Small Ticket”. \n",
    "If speed is 81 or more, the result is “Big Ticket”.\n",
    "Unless it is your birthday (encoded as a boolean value in the parameters of the function) — on your birthday, \n",
    "your speed can be 5 higher in all cases."
   ]
  },
  {
   "cell_type": "code",
   "execution_count": null,
   "metadata": {},
   "outputs": [],
   "source": [
    "def spd(speed, birthday):\n",
    "    if birthday == '16/08/2000':\n",
    "        s = speed - 5\n",
    "    else:\n",
    "        s = speed\n",
    "\n",
    "    if s <= 60:\n",
    "        print(\"No ticket\")\n",
    "    elif s > 61 and s <= 80:\n",
    "        print(\"small ticket\")\n",
    "    else:\n",
    "        print(\"big ticket.\")\n",
    "speed=int(input('Enter speed:'))\n",
    "birthady=input('Enter your bd:')\n",
    "spd=(speed,birthday)"
   ]
  }
 ],
 "metadata": {
  "kernelspec": {
   "display_name": "Python 3",
   "language": "python",
   "name": "python3"
  },
  "language_info": {
   "codemirror_mode": {
    "name": "ipython",
    "version": 3
   },
   "file_extension": ".py",
   "mimetype": "text/x-python",
   "name": "python",
   "nbconvert_exporter": "python",
   "pygments_lexer": "ipython3",
   "version": "3.7.6"
  }
 },
 "nbformat": 4,
 "nbformat_minor": 4
}
